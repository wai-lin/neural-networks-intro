{
    "cells": [
        {
            "cell_type": "code",
            "execution_count": 15,
            "metadata": {},
            "outputs": [],
            "source": [
                "import json_tricks\n",
                "answer = {}\n",
                "\n",
                "\n",
                "inputs = json_tricks.load(open('inputs.json', 'r'))"
            ]
        },
        {
            "cell_type": "markdown",
            "metadata": {},
            "source": [
                "# Backpropagaion Practice"
            ],
            "outputs": []
        },
        {
            "cell_type": "markdown",
            "metadata": {},
            "source": [
                "You are given a graph of operations:"
            ],
            "outputs": []
        },
        {
            "cell_type": "markdown",
            "metadata": {},
            "source": [
                "<img src=\"imgs/task_2_4_graph_02.png\" width=\"400\" height=\"300\" />"
            ],
            "outputs": []
        },
        {
            "cell_type": "markdown",
            "metadata": {},
            "source": [
                "# Task 1\n",
                "\n",
                "Write function that calculates value of this graph for any given input vector `x` and set of coefficients $b_1, b_2, c_1, c_2$ packed as vector of weights `w`.\n",
                "In this function also return all the $z$ values."
            ],
            "outputs": []
        },
        {
            "cell_type": "code",
            "execution_count": 16,
            "metadata": {},
            "outputs": [],
            "source": [
                "import numpy as np\n",
                "\n",
                "## YOU CAN DEFINE ANY FUNCTIONS YOU NEED ##\n",
                "\n",
                "def graph_value(x, w):\n",
                "    y = x\n",
                "    ## YOUR CODE HERE ##\n",
                "    return y, z"
            ]
        },
        {
            "cell_type": "code",
            "execution_count": 17,
            "metadata": {},
            "outputs": [],
            "source": [
                "answer['graph_value'] = [graph_value(**input) for input in inputs]"
            ]
        },
        {
            "cell_type": "markdown",
            "metadata": {},
            "source": [
                "# Task 2\n",
                "\n",
                "In this graph, find all derivative of all the values over $z$ or $x$ or $w$.\n",
                "\n",
                "Write the result in form of dictionary, for example, $\\partial_{z_9} y$:\n",
                "\n",
                "```\n",
                "['dy_dz9'] = 1\n",
                "```"
            ],
            "outputs": []
        },
        {
            "cell_type": "code",
            "execution_count": 18,
            "metadata": {},
            "outputs": [],
            "source": [
                "def graph_derivatives(x, w):\n",
                "    res = {}\n",
                "    ## YOUR CODE HERE ##\n",
                "\n",
                "    return res"
            ]
        },
        {
            "cell_type": "code",
            "execution_count": 19,
            "metadata": {},
            "outputs": [],
            "source": [
                "answer['graph_derivatives'] = [graph_derivatives(**input) for input in inputs]"
            ]
        },
        {
            "cell_type": "markdown",
            "metadata": {},
            "source": [
                "# Task 3\n",
                "\n",
                "Using the values of the derivatives, calculated above:\n",
                "- extract a dictionary of values that are needed to calculate $\\partial_{c_1} y$\n",
                "- calculate that derivative"
            ],
            "outputs": []
        },
        {
            "cell_type": "code",
            "execution_count": 20,
            "metadata": {},
            "outputs": [],
            "source": [
                "def dy_dc1(x, w):\n",
                "    selected_derivs = {}\n",
                "    dy_dc1 = 0\n",
                "\n",
                "    ## YOUR CODE HERE ##\n",
                "\n",
                "    return selected_derivs, dy_dc1"
            ]
        },
        {
            "cell_type": "code",
            "execution_count": 21,
            "metadata": {},
            "outputs": [],
            "source": [
                "answer['dy_dc1'] = [dy_dc1(**input) for input in inputs]"
            ]
        },
        {
            "cell_type": "markdown",
            "metadata": {},
            "source": [
                "# Task 4\n",
                "Using the values of the derivatives, calculated above:\n",
                "- extract a dictionary of values that are needed to calculate $\\partial_{c_2} y$\n",
                "- calculate that derivative"
            ],
            "outputs": []
        },
        {
            "cell_type": "code",
            "execution_count": 22,
            "metadata": {},
            "outputs": [],
            "source": [
                "def dy_dc2(x, w):\n",
                "    selected_derivs = {}\n",
                "    dy_dc2 = 0\n",
                "\n",
                "    ## YOUR CODE HERE ##\n",
                "\n",
                "    return selected_derivs, dy_dc2"
            ]
        },
        {
            "cell_type": "code",
            "execution_count": 23,
            "metadata": {},
            "outputs": [],
            "source": [
                "answer['dy_dc2'] = [dy_dc2(**input) for input in inputs]"
            ]
        },
        {
            "cell_type": "markdown",
            "metadata": {},
            "source": [
                "# Task 5\n",
                "Using the values of the derivatives, calculated above:\n",
                "- extract a dictionary of values that are needed to calculate $\\partial_{b_1} y$\n",
                "- calculate that derivative"
            ],
            "outputs": []
        },
        {
            "cell_type": "code",
            "execution_count": 24,
            "metadata": {},
            "outputs": [],
            "source": [
                "def dy_db1(x, w):\n",
                "    selected_derivs = {}\n",
                "    dy_db1 = 0\n",
                "\n",
                "    ## YOUR CODE HERE ##\n",
                "\n",
                "    return selected_derivs, dy_db1"
            ]
        },
        {
            "cell_type": "code",
            "execution_count": 25,
            "metadata": {},
            "outputs": [],
            "source": [
                "answer['dy_db1'] = [dy_db1(**input) for input in inputs]"
            ]
        },
        {
            "cell_type": "markdown",
            "metadata": {},
            "source": [
                "# Task 6\n",
                "Using the values of the derivatives, calculated above:\n",
                "- extract a dictionary of values that are needed to calculate $\\partial_{b_2} y$\n",
                "- calculate that derivative"
            ],
            "outputs": []
        },
        {
            "cell_type": "code",
            "execution_count": 26,
            "metadata": {},
            "outputs": [],
            "source": [
                "def dy_db2(x, w):\n",
                "    selected_derivs = {}\n",
                "    dy_db2 = 0\n",
                "\n",
                "    ## YOUR CODE HERE ##\n",
                "\n",
                "    return selected_derivs, dy_db2"
            ]
        },
        {
            "cell_type": "code",
            "execution_count": 27,
            "metadata": {},
            "outputs": [],
            "source": [
                "answer['dy_db2'] = [dy_db2(**input) for input in inputs]"
            ]
        },
        {
            "cell_type": "code",
            "execution_count": 28,
            "metadata": {},
            "outputs": [],
            "source": [
                "json_tricks.dump(answer, '.answer.json')"
            ]
        }
    ],
    "metadata": {
        "kernelspec": {
            "display_name": "Python 3",
            "language": "python",
            "name": "python3"
        },
        "language_info": {
            "codemirror_mode": {
                "name": "ipython",
                "version": 3
            },
            "file_extension": ".py",
            "mimetype": "text/x-python",
            "name": "python",
            "nbconvert_exporter": "python",
            "pygments_lexer": "ipython3",
            "version": "3.11.12"
        }
    },
    "nbformat": 4,
    "nbformat_minor": 2
}